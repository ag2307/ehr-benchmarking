{
 "cells": [
  {
   "cell_type": "markdown",
   "metadata": {},
   "source": [
    "## General Processing"
   ]
  },
  {
   "cell_type": "markdown",
   "metadata": {},
   "source": [
    "Workflow:\n",
    "1. General filter\n",
    "2. Outliers detection\n",
    "3. Train and test set splitting\n",
    "4. Missing values imputation\n",
    "5. Add Score values\n",
    "6. Output the train and test data\n",
    "\n",
    "\n"
   ]
  },
  {
   "cell_type": "markdown",
   "metadata": {},
   "source": [
    "### Load master dataset"
   ]
  },
  {
   "cell_type": "code",
   "execution_count": 1,
   "metadata": {},
   "outputs": [],
   "source": [
    "%reload_ext autoreload\n",
    "%autoreload 2"
   ]
  },
  {
   "cell_type": "code",
   "execution_count": 2,
   "metadata": {},
   "outputs": [
    {
     "name": "stderr",
     "output_type": "stream",
     "text": [
      "2022-08-19 19:07:48.218194: I tensorflow/stream_executor/platform/default/dso_loader.cc:53] Successfully opened dynamic library libcudart.so.11.0\n"
     ]
    },
    {
     "name": "stdout",
     "output_type": "stream",
     "text": [
      "/gpfs/scratch/ag7948/mimic/mimic-iv-1.0/output\n"
     ]
    }
   ],
   "source": [
    "import pandas as pd\n",
    "import os\n",
    "from importlib import reload\n",
    "from helpers import *\n",
    "import dataset_path\n",
    "# from sklearn.impute import SimpleImputer\n",
    "reload(dataset_path)\n",
    "from dataset_path import output_path, mimic_iv_path\n",
    "path = output_path\n",
    "print(path)\n",
    "df_master = pd.read_csv(os.path.join(path, 'master_dataset.csv'))"
   ]
  },
  {
   "cell_type": "code",
   "execution_count": 30,
   "metadata": {},
   "outputs": [],
   "source": [
    "from sklearn.impute import SimpleImputer"
   ]
  },
  {
   "cell_type": "code",
   "execution_count": 3,
   "metadata": {},
   "outputs": [
    {
     "name": "stdout",
     "output_type": "stream",
     "text": [
      "(448972, 119)\n",
      "['index', 'subject_id', 'hadm_id', 'stay_id', 'intime', 'outtime', 'anchor_age', 'gender', 'anchor_year', 'dod', 'admittime', 'dischtime', 'deathtime', 'ethnicity', 'edregtime', 'edouttime', 'insurance', 'in_year', 'age', 'outcome_inhospital_mortality', 'ed_death', 'before_ed_mortality', 'ed_los', 'intime_icu', 'time_to_icu_transfer', 'outcome_icu_transfer_12h', 'outcome_hospitalization', 'outcome_critical', 'n_ed_30d', 'n_ed_90d', 'n_ed_365d', 'next_ed_visit_time', 'next_ed_visit_time_diff', 'outcome_ed_revisit_3d', 'n_hosp_30d', 'n_hosp_90d', 'n_hosp_365d', 'n_icu_30d', 'n_icu_90d', 'n_icu_365d', 'ed_los_hours', 'time_to_icu_transfer_hours', 'next_ed_visit_time_diff_days', 'triage_temperature', 'triage_heartrate', 'triage_resprate', 'triage_o2sat', 'triage_sbp', 'triage_dbp', 'triage_pain', 'triage_acuity', 'chiefcomplaint', 'chiefcom_chest_pain', 'chiefcom_abdominal_pain', 'chiefcom_headache', 'chiefcom_shortness_of_breath', 'chiefcom_back_pain', 'chiefcom_cough', 'chiefcom_nausea_vomiting', 'chiefcom_fever_chills', 'chiefcom_syncope', 'chiefcom_dizziness', 'cci_MI', 'cci_CHF', 'cci_PVD', 'cci_Stroke', 'cci_Dementia', 'cci_Pulmonary', 'cci_Rheumatic', 'cci_PUD', 'cci_Liver1', 'cci_DM1', 'cci_DM2', 'cci_Paralysis', 'cci_Renal', 'cci_Cancer1', 'cci_Liver2', 'cci_Cancer2', 'cci_HIV', 'eci_CHF', 'eci_Arrhythmia', 'eci_Valvular', 'eci_PHTN', 'eci_PVD', 'eci_HTN1', 'eci_HTN2', 'eci_Paralysis', 'eci_NeuroOther', 'eci_Pulmonary', 'eci_DM1', 'eci_DM2', 'eci_Hypothyroid', 'eci_Renal', 'eci_Liver', 'eci_PUD', 'eci_HIV', 'eci_Lymphoma', 'eci_Tumor2', 'eci_Tumor1', 'eci_Rheumatic', 'eci_Coagulopathy', 'eci_Obesity', 'eci_WeightLoss', 'eci_FluidsLytes', 'eci_BloodLoss', 'eci_Anemia', 'eci_Alcohol', 'eci_Drugs', 'eci_Psychoses', 'eci_Depression', 'ed_temperature_last', 'ed_heartrate_last', 'ed_resprate_last', 'ed_o2sat_last', 'ed_sbp_last', 'ed_dbp_last', 'ed_pain_last', 'n_med', 'n_medrecon']\n"
     ]
    }
   ],
   "source": [
    "print(df_master.shape)\n",
    "print(df_master.columns.tolist())"
   ]
  },
  {
   "cell_type": "markdown",
   "metadata": {},
   "source": [
    "\n"
   ]
  },
  {
   "cell_type": "code",
   "execution_count": 4,
   "metadata": {},
   "outputs": [
    {
     "data": {
      "text/html": [
       "<div>\n",
       "<style scoped>\n",
       "    .dataframe tbody tr th:only-of-type {\n",
       "        vertical-align: middle;\n",
       "    }\n",
       "\n",
       "    .dataframe tbody tr th {\n",
       "        vertical-align: top;\n",
       "    }\n",
       "\n",
       "    .dataframe thead th {\n",
       "        text-align: right;\n",
       "    }\n",
       "</style>\n",
       "<table border=\"1\" class=\"dataframe\">\n",
       "  <thead>\n",
       "    <tr style=\"text-align: right;\">\n",
       "      <th></th>\n",
       "      <th>index</th>\n",
       "      <th>subject_id</th>\n",
       "      <th>hadm_id</th>\n",
       "      <th>stay_id</th>\n",
       "      <th>intime</th>\n",
       "      <th>outtime</th>\n",
       "      <th>anchor_age</th>\n",
       "      <th>gender</th>\n",
       "      <th>anchor_year</th>\n",
       "      <th>dod</th>\n",
       "      <th>...</th>\n",
       "      <th>eci_Depression</th>\n",
       "      <th>ed_temperature_last</th>\n",
       "      <th>ed_heartrate_last</th>\n",
       "      <th>ed_resprate_last</th>\n",
       "      <th>ed_o2sat_last</th>\n",
       "      <th>ed_sbp_last</th>\n",
       "      <th>ed_dbp_last</th>\n",
       "      <th>ed_pain_last</th>\n",
       "      <th>n_med</th>\n",
       "      <th>n_medrecon</th>\n",
       "    </tr>\n",
       "  </thead>\n",
       "  <tbody>\n",
       "    <tr>\n",
       "      <th>0</th>\n",
       "      <td>335314</td>\n",
       "      <td>10000032</td>\n",
       "      <td>22595853.0</td>\n",
       "      <td>33258284</td>\n",
       "      <td>2180-05-06 19:17:00</td>\n",
       "      <td>2180-05-06 23:30:00</td>\n",
       "      <td>52</td>\n",
       "      <td>F</td>\n",
       "      <td>2180</td>\n",
       "      <td>NaN</td>\n",
       "      <td>...</td>\n",
       "      <td>0</td>\n",
       "      <td>97.7</td>\n",
       "      <td>79.0</td>\n",
       "      <td>16.0</td>\n",
       "      <td>98.0</td>\n",
       "      <td>107.0</td>\n",
       "      <td>60.0</td>\n",
       "      <td>0.0</td>\n",
       "      <td>0.0</td>\n",
       "      <td>9.0</td>\n",
       "    </tr>\n",
       "    <tr>\n",
       "      <th>1</th>\n",
       "      <td>335315</td>\n",
       "      <td>10000032</td>\n",
       "      <td>22841357.0</td>\n",
       "      <td>38112554</td>\n",
       "      <td>2180-06-26 15:54:00</td>\n",
       "      <td>2180-06-26 21:31:00</td>\n",
       "      <td>52</td>\n",
       "      <td>F</td>\n",
       "      <td>2180</td>\n",
       "      <td>NaN</td>\n",
       "      <td>...</td>\n",
       "      <td>1</td>\n",
       "      <td>97.9</td>\n",
       "      <td>86.0</td>\n",
       "      <td>17.0</td>\n",
       "      <td>93.0</td>\n",
       "      <td>96.0</td>\n",
       "      <td>57.0</td>\n",
       "      <td>5.0</td>\n",
       "      <td>3.0</td>\n",
       "      <td>12.0</td>\n",
       "    </tr>\n",
       "    <tr>\n",
       "      <th>2</th>\n",
       "      <td>335316</td>\n",
       "      <td>10000032</td>\n",
       "      <td>29079034.0</td>\n",
       "      <td>32952584</td>\n",
       "      <td>2180-07-22 16:24:00</td>\n",
       "      <td>2180-07-23 05:54:00</td>\n",
       "      <td>52</td>\n",
       "      <td>F</td>\n",
       "      <td>2180</td>\n",
       "      <td>NaN</td>\n",
       "      <td>...</td>\n",
       "      <td>1</td>\n",
       "      <td>98.2</td>\n",
       "      <td>85.0</td>\n",
       "      <td>18.0</td>\n",
       "      <td>98.0</td>\n",
       "      <td>81.0</td>\n",
       "      <td>38.0</td>\n",
       "      <td>0.0</td>\n",
       "      <td>2.0</td>\n",
       "      <td>14.0</td>\n",
       "    </tr>\n",
       "    <tr>\n",
       "      <th>3</th>\n",
       "      <td>335317</td>\n",
       "      <td>10000032</td>\n",
       "      <td>29079034.0</td>\n",
       "      <td>39399961</td>\n",
       "      <td>2180-07-23 05:54:00</td>\n",
       "      <td>2180-07-23 14:00:00</td>\n",
       "      <td>52</td>\n",
       "      <td>F</td>\n",
       "      <td>2180</td>\n",
       "      <td>NaN</td>\n",
       "      <td>...</td>\n",
       "      <td>1</td>\n",
       "      <td>99.0</td>\n",
       "      <td>96.0</td>\n",
       "      <td>18.0</td>\n",
       "      <td>97.0</td>\n",
       "      <td>86.0</td>\n",
       "      <td>45.0</td>\n",
       "      <td>NaN</td>\n",
       "      <td>8.0</td>\n",
       "      <td>14.0</td>\n",
       "    </tr>\n",
       "    <tr>\n",
       "      <th>4</th>\n",
       "      <td>335318</td>\n",
       "      <td>10000032</td>\n",
       "      <td>25742920.0</td>\n",
       "      <td>35968195</td>\n",
       "      <td>2180-08-05 20:58:00</td>\n",
       "      <td>2180-08-06 01:44:00</td>\n",
       "      <td>52</td>\n",
       "      <td>F</td>\n",
       "      <td>2180</td>\n",
       "      <td>NaN</td>\n",
       "      <td>...</td>\n",
       "      <td>1</td>\n",
       "      <td>98.1</td>\n",
       "      <td>91.0</td>\n",
       "      <td>18.0</td>\n",
       "      <td>99.0</td>\n",
       "      <td>98.0</td>\n",
       "      <td>60.0</td>\n",
       "      <td>NaN</td>\n",
       "      <td>6.0</td>\n",
       "      <td>7.0</td>\n",
       "    </tr>\n",
       "  </tbody>\n",
       "</table>\n",
       "<p>5 rows × 119 columns</p>\n",
       "</div>"
      ],
      "text/plain": [
       "    index  subject_id     hadm_id   stay_id               intime  \\\n",
       "0  335314    10000032  22595853.0  33258284  2180-05-06 19:17:00   \n",
       "1  335315    10000032  22841357.0  38112554  2180-06-26 15:54:00   \n",
       "2  335316    10000032  29079034.0  32952584  2180-07-22 16:24:00   \n",
       "3  335317    10000032  29079034.0  39399961  2180-07-23 05:54:00   \n",
       "4  335318    10000032  25742920.0  35968195  2180-08-05 20:58:00   \n",
       "\n",
       "               outtime  anchor_age gender  anchor_year  dod  ...  \\\n",
       "0  2180-05-06 23:30:00          52      F         2180  NaN  ...   \n",
       "1  2180-06-26 21:31:00          52      F         2180  NaN  ...   \n",
       "2  2180-07-23 05:54:00          52      F         2180  NaN  ...   \n",
       "3  2180-07-23 14:00:00          52      F         2180  NaN  ...   \n",
       "4  2180-08-06 01:44:00          52      F         2180  NaN  ...   \n",
       "\n",
       "  eci_Depression ed_temperature_last ed_heartrate_last ed_resprate_last  \\\n",
       "0              0                97.7              79.0             16.0   \n",
       "1              1                97.9              86.0             17.0   \n",
       "2              1                98.2              85.0             18.0   \n",
       "3              1                99.0              96.0             18.0   \n",
       "4              1                98.1              91.0             18.0   \n",
       "\n",
       "  ed_o2sat_last ed_sbp_last ed_dbp_last  ed_pain_last  n_med  n_medrecon  \n",
       "0          98.0       107.0        60.0           0.0    0.0         9.0  \n",
       "1          93.0        96.0        57.0           5.0    3.0        12.0  \n",
       "2          98.0        81.0        38.0           0.0    2.0        14.0  \n",
       "3          97.0        86.0        45.0           NaN    8.0        14.0  \n",
       "4          99.0        98.0        60.0           NaN    6.0         7.0  \n",
       "\n",
       "[5 rows x 119 columns]"
      ]
     },
     "execution_count": 4,
     "metadata": {},
     "output_type": "execute_result"
    }
   ],
   "source": [
    "# pd.set_option('display.max_columns', 200) \n",
    "df_master.head()"
   ]
  },
  {
   "cell_type": "markdown",
   "metadata": {},
   "source": [
    "### 1. General filter - Age, triage_acuity"
   ]
  },
  {
   "cell_type": "code",
   "execution_count": 5,
   "metadata": {},
   "outputs": [],
   "source": [
    "df_master = df_master[df_master['age'] >= 18]"
   ]
  },
  {
   "cell_type": "code",
   "execution_count": 6,
   "metadata": {},
   "outputs": [],
   "source": [
    "# na_master = df_master[df_master['triage_acuity'].isnull()]\n",
    "# len(na_master)"
   ]
  },
  {
   "cell_type": "code",
   "execution_count": 7,
   "metadata": {},
   "outputs": [
    {
     "data": {
      "text/plain": [
       "441437"
      ]
     },
     "execution_count": 7,
     "metadata": {},
     "output_type": "execute_result"
    }
   ],
   "source": [
    "df_master = df_master[df_master['triage_acuity'].notnull()]\n",
    "len(df_master)"
   ]
  },
  {
   "cell_type": "markdown",
   "metadata": {},
   "source": [
    "### 2. Outlier Detection "
   ]
  },
  {
   "cell_type": "code",
   "execution_count": 8,
   "metadata": {},
   "outputs": [],
   "source": [
    "# from mimic-extract\n",
    "vitals_valid_range = {\n",
    "    'temperature': {'outlier_low': 14.2, 'valid_low': 26, 'valid_high': 45, 'outlier_high':47},\n",
    "    'heartrate': {'outlier_low': 0, 'valid_low': 0, 'valid_high': 350, 'outlier_high':390},\n",
    "    'resprate': {'outlier_low': 0, 'valid_low': 0, 'valid_high': 300, 'outlier_high':330},\n",
    "    'o2sat': {'outlier_low': 0, 'valid_low': 0, 'valid_high': 100, 'outlier_high':150},\n",
    "    'sbp': {'outlier_low': 0, 'valid_low': 0, 'valid_high': 375, 'outlier_high':375},\n",
    "    'dbp': {'outlier_low': 0, 'valid_low': 0, 'valid_high': 375, 'outlier_high':375},\n",
    "    'pain': {'outlier_low': 0, 'valid_low': 0, 'valid_high': 10, 'outlier_high':10},\n",
    "    'acuity': {'outlier_low': 1, 'valid_low': 1, 'valid_high': 5, 'outlier_high':5},\n",
    "}"
   ]
  },
  {
   "cell_type": "code",
   "execution_count": 9,
   "metadata": {},
   "outputs": [],
   "source": [
    "df_master = convert_temp_to_celcius(df_master)"
   ]
  },
  {
   "cell_type": "code",
   "execution_count": 10,
   "metadata": {},
   "outputs": [
    {
     "data": {
      "text/html": [
       "<div>\n",
       "<style scoped>\n",
       "    .dataframe tbody tr th:only-of-type {\n",
       "        vertical-align: middle;\n",
       "    }\n",
       "\n",
       "    .dataframe tbody tr th {\n",
       "        vertical-align: top;\n",
       "    }\n",
       "\n",
       "    .dataframe thead th {\n",
       "        text-align: right;\n",
       "    }\n",
       "</style>\n",
       "<table border=\"1\" class=\"dataframe\">\n",
       "  <thead>\n",
       "    <tr style=\"text-align: right;\">\n",
       "      <th></th>\n",
       "      <th>variable</th>\n",
       "      <th>&lt; outlier_low</th>\n",
       "      <th>[outlier_low, valid_low)</th>\n",
       "      <th>[valid_low, valid_high]</th>\n",
       "      <th>(valid_high, outlier_high]</th>\n",
       "      <th>&gt; outlier_high</th>\n",
       "    </tr>\n",
       "  </thead>\n",
       "  <tbody>\n",
       "    <tr>\n",
       "      <th>0</th>\n",
       "      <td>triage_temperature</td>\n",
       "      <td>512</td>\n",
       "      <td>29</td>\n",
       "      <td>423329</td>\n",
       "      <td>0</td>\n",
       "      <td>10</td>\n",
       "    </tr>\n",
       "    <tr>\n",
       "      <th>1</th>\n",
       "      <td>triage_heartrate</td>\n",
       "      <td>0</td>\n",
       "      <td>0</td>\n",
       "      <td>430515</td>\n",
       "      <td>0</td>\n",
       "      <td>7</td>\n",
       "    </tr>\n",
       "    <tr>\n",
       "      <th>2</th>\n",
       "      <td>triage_resprate</td>\n",
       "      <td>0</td>\n",
       "      <td>0</td>\n",
       "      <td>427096</td>\n",
       "      <td>0</td>\n",
       "      <td>4</td>\n",
       "    </tr>\n",
       "    <tr>\n",
       "      <th>3</th>\n",
       "      <td>triage_o2sat</td>\n",
       "      <td>0</td>\n",
       "      <td>0</td>\n",
       "      <td>426773</td>\n",
       "      <td>6</td>\n",
       "      <td>43</td>\n",
       "    </tr>\n",
       "    <tr>\n",
       "      <th>4</th>\n",
       "      <td>triage_sbp</td>\n",
       "      <td>0</td>\n",
       "      <td>0</td>\n",
       "      <td>429234</td>\n",
       "      <td>0</td>\n",
       "      <td>19</td>\n",
       "    </tr>\n",
       "    <tr>\n",
       "      <th>5</th>\n",
       "      <td>triage_dbp</td>\n",
       "      <td>0</td>\n",
       "      <td>0</td>\n",
       "      <td>427984</td>\n",
       "      <td>0</td>\n",
       "      <td>423</td>\n",
       "    </tr>\n",
       "    <tr>\n",
       "      <th>6</th>\n",
       "      <td>triage_pain</td>\n",
       "      <td>2</td>\n",
       "      <td>0</td>\n",
       "      <td>406760</td>\n",
       "      <td>0</td>\n",
       "      <td>11860</td>\n",
       "    </tr>\n",
       "    <tr>\n",
       "      <th>7</th>\n",
       "      <td>triage_acuity</td>\n",
       "      <td>0</td>\n",
       "      <td>0</td>\n",
       "      <td>441437</td>\n",
       "      <td>0</td>\n",
       "      <td>0</td>\n",
       "    </tr>\n",
       "    <tr>\n",
       "      <th>8</th>\n",
       "      <td>ed_temperature_last</td>\n",
       "      <td>675</td>\n",
       "      <td>43</td>\n",
       "      <td>417317</td>\n",
       "      <td>1</td>\n",
       "      <td>48</td>\n",
       "    </tr>\n",
       "    <tr>\n",
       "      <th>9</th>\n",
       "      <td>ed_heartrate_last</td>\n",
       "      <td>0</td>\n",
       "      <td>0</td>\n",
       "      <td>425769</td>\n",
       "      <td>0</td>\n",
       "      <td>0</td>\n",
       "    </tr>\n",
       "    <tr>\n",
       "      <th>10</th>\n",
       "      <td>ed_resprate_last</td>\n",
       "      <td>0</td>\n",
       "      <td>0</td>\n",
       "      <td>425263</td>\n",
       "      <td>0</td>\n",
       "      <td>0</td>\n",
       "    </tr>\n",
       "    <tr>\n",
       "      <th>11</th>\n",
       "      <td>ed_o2sat_last</td>\n",
       "      <td>0</td>\n",
       "      <td>0</td>\n",
       "      <td>414572</td>\n",
       "      <td>0</td>\n",
       "      <td>11</td>\n",
       "    </tr>\n",
       "    <tr>\n",
       "      <th>12</th>\n",
       "      <td>ed_sbp_last</td>\n",
       "      <td>0</td>\n",
       "      <td>0</td>\n",
       "      <td>425531</td>\n",
       "      <td>0</td>\n",
       "      <td>1</td>\n",
       "    </tr>\n",
       "    <tr>\n",
       "      <th>13</th>\n",
       "      <td>ed_dbp_last</td>\n",
       "      <td>0</td>\n",
       "      <td>0</td>\n",
       "      <td>425256</td>\n",
       "      <td>0</td>\n",
       "      <td>276</td>\n",
       "    </tr>\n",
       "    <tr>\n",
       "      <th>14</th>\n",
       "      <td>ed_pain_last</td>\n",
       "      <td>0</td>\n",
       "      <td>0</td>\n",
       "      <td>394029</td>\n",
       "      <td>0</td>\n",
       "      <td>16</td>\n",
       "    </tr>\n",
       "  </tbody>\n",
       "</table>\n",
       "</div>"
      ],
      "text/plain": [
       "               variable < outlier_low [outlier_low, valid_low)  \\\n",
       "0    triage_temperature           512                       29   \n",
       "1      triage_heartrate             0                        0   \n",
       "2       triage_resprate             0                        0   \n",
       "3          triage_o2sat             0                        0   \n",
       "4            triage_sbp             0                        0   \n",
       "5            triage_dbp             0                        0   \n",
       "6           triage_pain             2                        0   \n",
       "7         triage_acuity             0                        0   \n",
       "8   ed_temperature_last           675                       43   \n",
       "9     ed_heartrate_last             0                        0   \n",
       "10     ed_resprate_last             0                        0   \n",
       "11        ed_o2sat_last             0                        0   \n",
       "12          ed_sbp_last             0                        0   \n",
       "13          ed_dbp_last             0                        0   \n",
       "14         ed_pain_last             0                        0   \n",
       "\n",
       "   [valid_low, valid_high] (valid_high, outlier_high] > outlier_high  \n",
       "0                   423329                          0             10  \n",
       "1                   430515                          0              7  \n",
       "2                   427096                          0              4  \n",
       "3                   426773                          6             43  \n",
       "4                   429234                          0             19  \n",
       "5                   427984                          0            423  \n",
       "6                   406760                          0          11860  \n",
       "7                   441437                          0              0  \n",
       "8                   417317                          1             48  \n",
       "9                   425769                          0              0  \n",
       "10                  425263                          0              0  \n",
       "11                  414572                          0             11  \n",
       "12                  425531                          0              1  \n",
       "13                  425256                          0            276  \n",
       "14                  394029                          0             16  "
      ]
     },
     "execution_count": 10,
     "metadata": {},
     "output_type": "execute_result"
    }
   ],
   "source": [
    "display_outliers_count(df_master, vitals_valid_range)"
   ]
  },
  {
   "cell_type": "code",
   "execution_count": 11,
   "metadata": {},
   "outputs": [],
   "source": [
    "df_master = remove_outliers(df_master, vitals_valid_range)"
   ]
  },
  {
   "cell_type": "code",
   "execution_count": 12,
   "metadata": {},
   "outputs": [
    {
     "data": {
      "text/plain": [
       "441437"
      ]
     },
     "execution_count": 12,
     "metadata": {},
     "output_type": "execute_result"
    }
   ],
   "source": [
    "len(df_master)"
   ]
  },
  {
   "cell_type": "code",
   "execution_count": 15,
   "metadata": {},
   "outputs": [
    {
     "data": {
      "text/plain": [
       "pandas.core.frame.DataFrame"
      ]
     },
     "execution_count": 15,
     "metadata": {},
     "output_type": "execute_result"
    }
   ],
   "source": [
    "type(df_master)"
   ]
  },
  {
   "cell_type": "markdown",
   "metadata": {},
   "source": [
    "### 3. Dataset Split (train:0.7, validation:0.1, test: 0.2, use seed to fix)"
   ]
  },
  {
   "cell_type": "code",
   "execution_count": 21,
   "metadata": {},
   "outputs": [],
   "source": [
    "# df_train = df_master.sample(frac=0.7,random_state=10) #random state is a seed value\n",
    "# df_test = df_master.drop(df_train.index)\n",
    "df_train, df_validation, df_test = np.split(df_master.sample(frac=1, random_state=42), [int(.7*len(df_master)), int(.8*len(df_master))])"
   ]
  },
  {
   "cell_type": "code",
   "execution_count": 22,
   "metadata": {},
   "outputs": [
    {
     "data": {
      "text/plain": [
       "pandas.core.frame.DataFrame"
      ]
     },
     "execution_count": 22,
     "metadata": {},
     "output_type": "execute_result"
    }
   ],
   "source": [
    "type(df_train)"
   ]
  },
  {
   "cell_type": "code",
   "execution_count": 23,
   "metadata": {},
   "outputs": [
    {
     "data": {
      "text/plain": [
       "309005"
      ]
     },
     "execution_count": 23,
     "metadata": {},
     "output_type": "execute_result"
    }
   ],
   "source": [
    "len(df_train)"
   ]
  },
  {
   "cell_type": "code",
   "execution_count": 24,
   "metadata": {},
   "outputs": [
    {
     "data": {
      "text/plain": [
       "44144"
      ]
     },
     "execution_count": 24,
     "metadata": {},
     "output_type": "execute_result"
    }
   ],
   "source": [
    "len(df_validation)"
   ]
  },
  {
   "cell_type": "code",
   "execution_count": 25,
   "metadata": {},
   "outputs": [
    {
     "data": {
      "text/plain": [
       "88288"
      ]
     },
     "execution_count": 25,
     "metadata": {},
     "output_type": "execute_result"
    }
   ],
   "source": [
    "len(df_test)"
   ]
  },
  {
   "cell_type": "code",
   "execution_count": 26,
   "metadata": {},
   "outputs": [
    {
     "data": {
      "text/html": [
       "<div>\n",
       "<style scoped>\n",
       "    .dataframe tbody tr th:only-of-type {\n",
       "        vertical-align: middle;\n",
       "    }\n",
       "\n",
       "    .dataframe tbody tr th {\n",
       "        vertical-align: top;\n",
       "    }\n",
       "\n",
       "    .dataframe thead th {\n",
       "        text-align: right;\n",
       "    }\n",
       "</style>\n",
       "<table border=\"1\" class=\"dataframe\">\n",
       "  <thead>\n",
       "    <tr style=\"text-align: right;\">\n",
       "      <th></th>\n",
       "      <th>index</th>\n",
       "      <th>subject_id</th>\n",
       "      <th>hadm_id</th>\n",
       "      <th>stay_id</th>\n",
       "      <th>intime</th>\n",
       "      <th>outtime</th>\n",
       "      <th>anchor_age</th>\n",
       "      <th>gender</th>\n",
       "      <th>anchor_year</th>\n",
       "      <th>dod</th>\n",
       "      <th>...</th>\n",
       "      <th>eci_Depression</th>\n",
       "      <th>ed_temperature_last</th>\n",
       "      <th>ed_heartrate_last</th>\n",
       "      <th>ed_resprate_last</th>\n",
       "      <th>ed_o2sat_last</th>\n",
       "      <th>ed_sbp_last</th>\n",
       "      <th>ed_dbp_last</th>\n",
       "      <th>ed_pain_last</th>\n",
       "      <th>n_med</th>\n",
       "      <th>n_medrecon</th>\n",
       "    </tr>\n",
       "  </thead>\n",
       "  <tbody>\n",
       "    <tr>\n",
       "      <th>374508</th>\n",
       "      <td>47399</td>\n",
       "      <td>18336789</td>\n",
       "      <td>NaN</td>\n",
       "      <td>33947176</td>\n",
       "      <td>2204-07-21 18:27:00</td>\n",
       "      <td>2204-07-21 18:37:00</td>\n",
       "      <td>71</td>\n",
       "      <td>F</td>\n",
       "      <td>2197</td>\n",
       "      <td>NaN</td>\n",
       "      <td>...</td>\n",
       "      <td>0</td>\n",
       "      <td>37.111111</td>\n",
       "      <td>92.0</td>\n",
       "      <td>18.0</td>\n",
       "      <td>98.0</td>\n",
       "      <td>146.0</td>\n",
       "      <td>84.0</td>\n",
       "      <td>0.0</td>\n",
       "      <td>0.0</td>\n",
       "      <td>15.0</td>\n",
       "    </tr>\n",
       "    <tr>\n",
       "      <th>165548</th>\n",
       "      <td>187780</td>\n",
       "      <td>13712250</td>\n",
       "      <td>23685749.0</td>\n",
       "      <td>37806132</td>\n",
       "      <td>2185-08-06 23:42:00</td>\n",
       "      <td>2185-08-08 14:09:00</td>\n",
       "      <td>67</td>\n",
       "      <td>F</td>\n",
       "      <td>2176</td>\n",
       "      <td>NaN</td>\n",
       "      <td>...</td>\n",
       "      <td>1</td>\n",
       "      <td>36.722222</td>\n",
       "      <td>51.0</td>\n",
       "      <td>16.0</td>\n",
       "      <td>98.0</td>\n",
       "      <td>115.0</td>\n",
       "      <td>66.0</td>\n",
       "      <td>8.0</td>\n",
       "      <td>12.0</td>\n",
       "      <td>11.0</td>\n",
       "    </tr>\n",
       "    <tr>\n",
       "      <th>324893</th>\n",
       "      <td>432843</td>\n",
       "      <td>17236922</td>\n",
       "      <td>NaN</td>\n",
       "      <td>30242272</td>\n",
       "      <td>2165-02-28 04:37:00</td>\n",
       "      <td>2165-02-28 04:54:00</td>\n",
       "      <td>63</td>\n",
       "      <td>M</td>\n",
       "      <td>2163</td>\n",
       "      <td>NaN</td>\n",
       "      <td>...</td>\n",
       "      <td>0</td>\n",
       "      <td>36.722222</td>\n",
       "      <td>82.0</td>\n",
       "      <td>18.0</td>\n",
       "      <td>96.0</td>\n",
       "      <td>137.0</td>\n",
       "      <td>90.0</td>\n",
       "      <td>0.0</td>\n",
       "      <td>0.0</td>\n",
       "      <td>4.0</td>\n",
       "    </tr>\n",
       "    <tr>\n",
       "      <th>226240</th>\n",
       "      <td>307634</td>\n",
       "      <td>15057835</td>\n",
       "      <td>28433076.0</td>\n",
       "      <td>34192717</td>\n",
       "      <td>2172-05-05 03:39:00</td>\n",
       "      <td>2172-05-05 05:46:00</td>\n",
       "      <td>68</td>\n",
       "      <td>M</td>\n",
       "      <td>2171</td>\n",
       "      <td>NaN</td>\n",
       "      <td>...</td>\n",
       "      <td>0</td>\n",
       "      <td>36.833333</td>\n",
       "      <td>56.0</td>\n",
       "      <td>19.0</td>\n",
       "      <td>99.0</td>\n",
       "      <td>148.0</td>\n",
       "      <td>78.0</td>\n",
       "      <td>0.0</td>\n",
       "      <td>2.0</td>\n",
       "      <td>2.0</td>\n",
       "    </tr>\n",
       "    <tr>\n",
       "      <th>349811</th>\n",
       "      <td>210916</td>\n",
       "      <td>17800278</td>\n",
       "      <td>NaN</td>\n",
       "      <td>35819741</td>\n",
       "      <td>2165-09-26 17:30:00</td>\n",
       "      <td>2165-09-26 17:36:00</td>\n",
       "      <td>76</td>\n",
       "      <td>M</td>\n",
       "      <td>2158</td>\n",
       "      <td>NaN</td>\n",
       "      <td>...</td>\n",
       "      <td>1</td>\n",
       "      <td>37.000000</td>\n",
       "      <td>80.0</td>\n",
       "      <td>16.0</td>\n",
       "      <td>100.0</td>\n",
       "      <td>156.0</td>\n",
       "      <td>98.0</td>\n",
       "      <td>NaN</td>\n",
       "      <td>0.0</td>\n",
       "      <td>0.0</td>\n",
       "    </tr>\n",
       "  </tbody>\n",
       "</table>\n",
       "<p>5 rows × 119 columns</p>\n",
       "</div>"
      ],
      "text/plain": [
       "         index  subject_id     hadm_id   stay_id               intime  \\\n",
       "374508   47399    18336789         NaN  33947176  2204-07-21 18:27:00   \n",
       "165548  187780    13712250  23685749.0  37806132  2185-08-06 23:42:00   \n",
       "324893  432843    17236922         NaN  30242272  2165-02-28 04:37:00   \n",
       "226240  307634    15057835  28433076.0  34192717  2172-05-05 03:39:00   \n",
       "349811  210916    17800278         NaN  35819741  2165-09-26 17:30:00   \n",
       "\n",
       "                    outtime  anchor_age gender  anchor_year  dod  ...  \\\n",
       "374508  2204-07-21 18:37:00          71      F         2197  NaN  ...   \n",
       "165548  2185-08-08 14:09:00          67      F         2176  NaN  ...   \n",
       "324893  2165-02-28 04:54:00          63      M         2163  NaN  ...   \n",
       "226240  2172-05-05 05:46:00          68      M         2171  NaN  ...   \n",
       "349811  2165-09-26 17:36:00          76      M         2158  NaN  ...   \n",
       "\n",
       "       eci_Depression ed_temperature_last ed_heartrate_last ed_resprate_last  \\\n",
       "374508              0           37.111111              92.0             18.0   \n",
       "165548              1           36.722222              51.0             16.0   \n",
       "324893              0           36.722222              82.0             18.0   \n",
       "226240              0           36.833333              56.0             19.0   \n",
       "349811              1           37.000000              80.0             16.0   \n",
       "\n",
       "       ed_o2sat_last ed_sbp_last ed_dbp_last  ed_pain_last  n_med  n_medrecon  \n",
       "374508          98.0       146.0        84.0           0.0    0.0        15.0  \n",
       "165548          98.0       115.0        66.0           8.0   12.0        11.0  \n",
       "324893          96.0       137.0        90.0           0.0    0.0         4.0  \n",
       "226240          99.0       148.0        78.0           0.0    2.0         2.0  \n",
       "349811         100.0       156.0        98.0           NaN    0.0         0.0  \n",
       "\n",
       "[5 rows x 119 columns]"
      ]
     },
     "execution_count": 26,
     "metadata": {},
     "output_type": "execute_result"
    }
   ],
   "source": [
    "df_train.head()"
   ]
  },
  {
   "cell_type": "markdown",
   "metadata": {},
   "source": [
    "### 4. Missing Value imputation "
   ]
  },
  {
   "cell_type": "code",
   "execution_count": 27,
   "metadata": {},
   "outputs": [
    {
     "data": {
      "text/html": [
       "<div>\n",
       "<style scoped>\n",
       "    .dataframe tbody tr th:only-of-type {\n",
       "        vertical-align: middle;\n",
       "    }\n",
       "\n",
       "    .dataframe tbody tr th {\n",
       "        vertical-align: top;\n",
       "    }\n",
       "\n",
       "    .dataframe thead th {\n",
       "        text-align: right;\n",
       "    }\n",
       "</style>\n",
       "<table border=\"1\" class=\"dataframe\">\n",
       "  <thead>\n",
       "    <tr style=\"text-align: right;\">\n",
       "      <th></th>\n",
       "      <th>index</th>\n",
       "      <th>subject_id</th>\n",
       "      <th>hadm_id</th>\n",
       "      <th>stay_id</th>\n",
       "      <th>intime</th>\n",
       "      <th>outtime</th>\n",
       "      <th>anchor_age</th>\n",
       "      <th>gender</th>\n",
       "      <th>anchor_year</th>\n",
       "      <th>dod</th>\n",
       "      <th>...</th>\n",
       "      <th>eci_Depression</th>\n",
       "      <th>ed_temperature_last</th>\n",
       "      <th>ed_heartrate_last</th>\n",
       "      <th>ed_resprate_last</th>\n",
       "      <th>ed_o2sat_last</th>\n",
       "      <th>ed_sbp_last</th>\n",
       "      <th>ed_dbp_last</th>\n",
       "      <th>ed_pain_last</th>\n",
       "      <th>n_med</th>\n",
       "      <th>n_medrecon</th>\n",
       "    </tr>\n",
       "  </thead>\n",
       "  <tbody>\n",
       "    <tr>\n",
       "      <th>no. of missing values</th>\n",
       "      <td>0.0</td>\n",
       "      <td>0.0</td>\n",
       "      <td>162875.000000</td>\n",
       "      <td>0.0</td>\n",
       "      <td>0.0</td>\n",
       "      <td>0.0</td>\n",
       "      <td>0.0</td>\n",
       "      <td>0.0</td>\n",
       "      <td>0.0</td>\n",
       "      <td>296952.000000</td>\n",
       "      <td>...</td>\n",
       "      <td>0.0</td>\n",
       "      <td>16954.000000</td>\n",
       "      <td>11063.000000</td>\n",
       "      <td>11416.000000</td>\n",
       "      <td>18859.000000</td>\n",
       "      <td>11229.000000</td>\n",
       "      <td>11411.000000</td>\n",
       "      <td>33159.000000</td>\n",
       "      <td>0.0</td>\n",
       "      <td>0.0</td>\n",
       "    </tr>\n",
       "    <tr>\n",
       "      <th>percentage of missing values</th>\n",
       "      <td>0.0</td>\n",
       "      <td>0.0</td>\n",
       "      <td>0.527095</td>\n",
       "      <td>0.0</td>\n",
       "      <td>0.0</td>\n",
       "      <td>0.0</td>\n",
       "      <td>0.0</td>\n",
       "      <td>0.0</td>\n",
       "      <td>0.0</td>\n",
       "      <td>0.960994</td>\n",
       "      <td>...</td>\n",
       "      <td>0.0</td>\n",
       "      <td>0.054866</td>\n",
       "      <td>0.035802</td>\n",
       "      <td>0.036944</td>\n",
       "      <td>0.061031</td>\n",
       "      <td>0.036339</td>\n",
       "      <td>0.036928</td>\n",
       "      <td>0.107309</td>\n",
       "      <td>0.0</td>\n",
       "      <td>0.0</td>\n",
       "    </tr>\n",
       "  </tbody>\n",
       "</table>\n",
       "<p>2 rows × 119 columns</p>\n",
       "</div>"
      ],
      "text/plain": [
       "                              index  subject_id        hadm_id  stay_id  \\\n",
       "no. of missing values           0.0         0.0  162875.000000      0.0   \n",
       "percentage of missing values    0.0         0.0       0.527095      0.0   \n",
       "\n",
       "                              intime  outtime  anchor_age  gender  \\\n",
       "no. of missing values            0.0      0.0         0.0     0.0   \n",
       "percentage of missing values     0.0      0.0         0.0     0.0   \n",
       "\n",
       "                              anchor_year            dod  ...  eci_Depression  \\\n",
       "no. of missing values                 0.0  296952.000000  ...             0.0   \n",
       "percentage of missing values          0.0       0.960994  ...             0.0   \n",
       "\n",
       "                              ed_temperature_last  ed_heartrate_last  \\\n",
       "no. of missing values                16954.000000       11063.000000   \n",
       "percentage of missing values             0.054866           0.035802   \n",
       "\n",
       "                              ed_resprate_last  ed_o2sat_last   ed_sbp_last  \\\n",
       "no. of missing values             11416.000000   18859.000000  11229.000000   \n",
       "percentage of missing values          0.036944       0.061031      0.036339   \n",
       "\n",
       "                               ed_dbp_last  ed_pain_last  n_med  n_medrecon  \n",
       "no. of missing values         11411.000000  33159.000000    0.0         0.0  \n",
       "percentage of missing values      0.036928      0.107309    0.0         0.0  \n",
       "\n",
       "[2 rows x 119 columns]"
      ]
     },
     "execution_count": 27,
     "metadata": {},
     "output_type": "execute_result"
    }
   ],
   "source": [
    "df_missing_stats = df_train.isnull().sum().to_frame().T\n",
    "df_missing_stats.loc[1] = df_missing_stats.loc[0] / len(df_train)\n",
    "df_missing_stats.index = ['no. of missing values', 'percentage of missing values']\n",
    "df_missing_stats"
   ]
  },
  {
   "cell_type": "code",
   "execution_count": 28,
   "metadata": {},
   "outputs": [
    {
     "data": {
      "text/plain": [
       "['triage_temperature',\n",
       " 'triage_heartrate',\n",
       " 'triage_resprate',\n",
       " 'triage_o2sat',\n",
       " 'triage_sbp',\n",
       " 'triage_dbp',\n",
       " 'triage_pain',\n",
       " 'ed_temperature_last',\n",
       " 'ed_heartrate_last',\n",
       " 'ed_resprate_last',\n",
       " 'ed_o2sat_last',\n",
       " 'ed_sbp_last',\n",
       " 'ed_dbp_last',\n",
       " 'ed_pain_last']"
      ]
     },
     "execution_count": 28,
     "metadata": {},
     "output_type": "execute_result"
    }
   ],
   "source": [
    "vitals_cols = [col for col in df_master.columns if len(col.split('_')) > 1 and \n",
    "                                                   col.split('_')[1] in vitals_valid_range and\n",
    "                                                   col.split('_')[1] != 'acuity']\n",
    "vitals_cols"
   ]
  },
  {
   "cell_type": "code",
   "execution_count": 31,
   "metadata": {},
   "outputs": [],
   "source": [
    "imputer = SimpleImputer(strategy='median')\n",
    "df_train[vitals_cols] = imputer.fit_transform(df_train[vitals_cols])\n",
    "df_validation[vitals_cols] = imputer.transform(df_validation[vitals_cols])\n",
    "df_test[vitals_cols] = imputer.transform(df_test[vitals_cols])"
   ]
  },
  {
   "cell_type": "markdown",
   "metadata": {},
   "source": [
    "### 5. Add Score values"
   ]
  },
  {
   "cell_type": "code",
   "execution_count": 32,
   "metadata": {},
   "outputs": [
    {
     "name": "stdout",
     "output_type": "stream",
     "text": [
      "Variable 'add_triage_MAP' successfully added\n",
      "Variable 'add_score_CCI' successfully added\n",
      "Variable 'Score_CART' successfully added\n",
      "Variable 'Score_REMS' successfully added\n",
      "Variable 'Score_NEWS' successfully added\n",
      "Variable 'Score_NEWS2' successfully added\n",
      "Variable 'Score_MEWS' successfully added\n",
      "Variable 'add_triage_MAP' successfully added\n",
      "Variable 'add_score_CCI' successfully added\n",
      "Variable 'Score_CART' successfully added\n",
      "Variable 'Score_REMS' successfully added\n",
      "Variable 'Score_NEWS' successfully added\n",
      "Variable 'Score_NEWS2' successfully added\n",
      "Variable 'Score_MEWS' successfully added\n",
      "Variable 'add_triage_MAP' successfully added\n",
      "Variable 'add_score_CCI' successfully added\n",
      "Variable 'Score_CART' successfully added\n",
      "Variable 'Score_REMS' successfully added\n",
      "Variable 'Score_NEWS' successfully added\n",
      "Variable 'Score_NEWS2' successfully added\n",
      "Variable 'Score_MEWS' successfully added\n"
     ]
    }
   ],
   "source": [
    "# train\n",
    "add_triage_MAP(df_train) # add an extra variable MAP\n",
    "add_score_CCI(df_train)\n",
    "add_score_CART(df_train)\n",
    "add_score_REMS(df_train)\n",
    "add_score_NEWS(df_train)\n",
    "add_score_NEWS2(df_train)\n",
    "add_score_MEWS(df_train)\n",
    "# validation\n",
    "add_triage_MAP(df_validation) # add an extra variable MAP\n",
    "add_score_CCI(df_validation)\n",
    "add_score_CART(df_validation)\n",
    "add_score_REMS(df_validation)\n",
    "add_score_NEWS(df_validation)\n",
    "add_score_NEWS2(df_validation)\n",
    "add_score_MEWS(df_validation)\n",
    "# test\n",
    "add_triage_MAP(df_test) # add an extra variable MAP\n",
    "add_score_CCI(df_test)\n",
    "add_score_CART(df_test)\n",
    "add_score_REMS(df_test)\n",
    "add_score_NEWS(df_test)\n",
    "add_score_NEWS2(df_test)\n",
    "add_score_MEWS(df_test)"
   ]
  },
  {
   "cell_type": "markdown",
   "metadata": {},
   "source": [
    "### 6. Output the train and test data"
   ]
  },
  {
   "cell_type": "code",
   "execution_count": 33,
   "metadata": {},
   "outputs": [],
   "source": [
    "df_train.to_csv(os.path.join(path, 'train.csv'), index=False)\n",
    "df_validation.to_csv(os.path.join(path, 'validation.csv'), index=False)\n",
    "df_test.to_csv(os.path.join(path, 'test.csv'), index=False)"
   ]
  },
  {
   "cell_type": "markdown",
   "metadata": {},
   "source": [
    "## Time series data processing"
   ]
  },
  {
   "cell_type": "code",
   "execution_count": 34,
   "metadata": {},
   "outputs": [],
   "source": [
    "#mimic_iv_ed_path = 'your_path/mimic-iv-ed-1.0/ed'\n",
    "df_vitalsign = read_vitalsign_table(os.path.join(mimic_iv_path, 'ed/vitalsign.csv'))"
   ]
  },
  {
   "cell_type": "code",
   "execution_count": 35,
   "metadata": {},
   "outputs": [
    {
     "data": {
      "text/html": [
       "<div>\n",
       "<style scoped>\n",
       "    .dataframe tbody tr th:only-of-type {\n",
       "        vertical-align: middle;\n",
       "    }\n",
       "\n",
       "    .dataframe tbody tr th {\n",
       "        vertical-align: top;\n",
       "    }\n",
       "\n",
       "    .dataframe thead th {\n",
       "        text-align: right;\n",
       "    }\n",
       "</style>\n",
       "<table border=\"1\" class=\"dataframe\">\n",
       "  <thead>\n",
       "    <tr style=\"text-align: right;\">\n",
       "      <th></th>\n",
       "      <th>subject_id</th>\n",
       "      <th>stay_id</th>\n",
       "      <th>charttime</th>\n",
       "      <th>ed_temperature</th>\n",
       "      <th>ed_heartrate</th>\n",
       "      <th>ed_resprate</th>\n",
       "      <th>ed_o2sat</th>\n",
       "      <th>ed_sbp</th>\n",
       "      <th>ed_dbp</th>\n",
       "      <th>ed_pain</th>\n",
       "    </tr>\n",
       "  </thead>\n",
       "  <tbody>\n",
       "    <tr>\n",
       "      <th>52797</th>\n",
       "      <td>13238787</td>\n",
       "      <td>35341790</td>\n",
       "      <td>2110-01-11 01:49:00</td>\n",
       "      <td>98.4</td>\n",
       "      <td>77.0</td>\n",
       "      <td>16.0</td>\n",
       "      <td>100.0</td>\n",
       "      <td>149.0</td>\n",
       "      <td>104.0</td>\n",
       "      <td>8.0</td>\n",
       "    </tr>\n",
       "    <tr>\n",
       "      <th>1417298</th>\n",
       "      <td>15350437</td>\n",
       "      <td>39042378</td>\n",
       "      <td>2110-01-11 03:45:00</td>\n",
       "      <td>97.1</td>\n",
       "      <td>71.0</td>\n",
       "      <td>16.0</td>\n",
       "      <td>100.0</td>\n",
       "      <td>117.0</td>\n",
       "      <td>79.0</td>\n",
       "      <td>0.0</td>\n",
       "    </tr>\n",
       "    <tr>\n",
       "      <th>52798</th>\n",
       "      <td>13238787</td>\n",
       "      <td>35341790</td>\n",
       "      <td>2110-01-11 04:02:00</td>\n",
       "      <td>98.0</td>\n",
       "      <td>78.0</td>\n",
       "      <td>18.0</td>\n",
       "      <td>99.0</td>\n",
       "      <td>138.0</td>\n",
       "      <td>92.0</td>\n",
       "      <td>0.0</td>\n",
       "    </tr>\n",
       "    <tr>\n",
       "      <th>1417299</th>\n",
       "      <td>15350437</td>\n",
       "      <td>39042378</td>\n",
       "      <td>2110-01-11 05:42:00</td>\n",
       "      <td>98.4</td>\n",
       "      <td>57.0</td>\n",
       "      <td>16.0</td>\n",
       "      <td>100.0</td>\n",
       "      <td>132.0</td>\n",
       "      <td>90.0</td>\n",
       "      <td>0.0</td>\n",
       "    </tr>\n",
       "    <tr>\n",
       "      <th>1417300</th>\n",
       "      <td>15350437</td>\n",
       "      <td>39042378</td>\n",
       "      <td>2110-01-11 08:10:00</td>\n",
       "      <td>99.1</td>\n",
       "      <td>83.0</td>\n",
       "      <td>18.0</td>\n",
       "      <td>100.0</td>\n",
       "      <td>152.0</td>\n",
       "      <td>97.0</td>\n",
       "      <td>0.0</td>\n",
       "    </tr>\n",
       "  </tbody>\n",
       "</table>\n",
       "</div>"
      ],
      "text/plain": [
       "         subject_id   stay_id           charttime  ed_temperature  \\\n",
       "52797      13238787  35341790 2110-01-11 01:49:00            98.4   \n",
       "1417298    15350437  39042378 2110-01-11 03:45:00            97.1   \n",
       "52798      13238787  35341790 2110-01-11 04:02:00            98.0   \n",
       "1417299    15350437  39042378 2110-01-11 05:42:00            98.4   \n",
       "1417300    15350437  39042378 2110-01-11 08:10:00            99.1   \n",
       "\n",
       "         ed_heartrate  ed_resprate  ed_o2sat  ed_sbp  ed_dbp  ed_pain  \n",
       "52797            77.0         16.0     100.0   149.0   104.0      8.0  \n",
       "1417298          71.0         16.0     100.0   117.0    79.0      0.0  \n",
       "52798            78.0         18.0      99.0   138.0    92.0      0.0  \n",
       "1417299          57.0         16.0     100.0   132.0    90.0      0.0  \n",
       "1417300          83.0         18.0     100.0   152.0    97.0      0.0  "
      ]
     },
     "execution_count": 35,
     "metadata": {},
     "output_type": "execute_result"
    }
   ],
   "source": [
    "df_vitalsign['charttime'] = pd.to_datetime(df_vitalsign['charttime'])\n",
    "df_vitalsign.sort_values('charttime', inplace=True)\n",
    "df_vitalsign.drop('ed_rhythm', axis=1, inplace=True)\n",
    "df_vitalsign.head()"
   ]
  },
  {
   "cell_type": "code",
   "execution_count": 36,
   "metadata": {},
   "outputs": [],
   "source": [
    "grouped = df_vitalsign.groupby('stay_id')"
   ]
  },
  {
   "cell_type": "code",
   "execution_count": 37,
   "metadata": {},
   "outputs": [
    {
     "name": "stdout",
     "output_type": "stream",
     "text": [
      "430990/430990\r"
     ]
    }
   ],
   "source": [
    "resample_freq = '1H' # 1 hour\n",
    "# resample_freq = '30T' # 30 minutes\n",
    "\n",
    "df_list = []\n",
    "counter = 0\n",
    "N = len(grouped)\n",
    "for stay_id, stay_df in grouped:\n",
    "    counter += 1\n",
    "    stay_df.set_index('charttime', inplace=True)\n",
    "    stay_df = stay_df.resample('1T', origin='start').interpolate(method='linear')\\\n",
    "                     .resample(resample_freq, origin='start').asfreq().ffill().bfill()\n",
    "    if counter % 10000 == 0 or counter == N:\n",
    "        print('%d/%d' % (counter, N), end='\\r')\n",
    "    df_list.append(stay_df)"
   ]
  },
  {
   "cell_type": "code",
   "execution_count": 44,
   "metadata": {},
   "outputs": [],
   "source": [
    "df_vitalsign_resampled = pd.concat(df_list)"
   ]
  },
  {
   "cell_type": "code",
   "execution_count": 45,
   "metadata": {},
   "outputs": [],
   "source": [
    "df_vitalsign_resampled = convert_temp_to_celcius(df_vitalsign_resampled)"
   ]
  },
  {
   "cell_type": "code",
   "execution_count": 46,
   "metadata": {},
   "outputs": [],
   "source": [
    "df_vitalsign_resampled = remove_outliers(df_vitalsign_resampled, vitals_valid_range)"
   ]
  },
  {
   "cell_type": "code",
   "execution_count": 47,
   "metadata": {},
   "outputs": [
    {
     "data": {
      "text/plain": [
       "['ed_temperature',\n",
       " 'ed_heartrate',\n",
       " 'ed_resprate',\n",
       " 'ed_o2sat',\n",
       " 'ed_sbp',\n",
       " 'ed_dbp',\n",
       " 'ed_pain']"
      ]
     },
     "execution_count": 47,
     "metadata": {},
     "output_type": "execute_result"
    }
   ],
   "source": [
    "vitals_cols = [col for col in df_vitalsign_resampled.columns if len(col.split('_')) > 1 and \n",
    "                                                                col.split('_')[1] in vitals_valid_range]\n",
    "vitals_cols"
   ]
  },
  {
   "cell_type": "code",
   "execution_count": 48,
   "metadata": {},
   "outputs": [],
   "source": [
    "imputer = SimpleImputer(strategy='median')\n",
    "df_vitalsign_resampled[vitals_cols] = imputer.fit_transform(df_vitalsign_resampled[vitals_cols])"
   ]
  },
  {
   "cell_type": "code",
   "execution_count": 49,
   "metadata": {},
   "outputs": [],
   "source": [
    "df_vitalsign_resampled.to_csv(os.path.join(output_path, 'ed_vitalsign_'+resample_freq+'_resampled.csv'))"
   ]
  }
 ],
 "metadata": {
  "interpreter": {
   "hash": "cf9f7c42999d1346969e890247ad220cd768e54a9022ee81cbe62d07cccdebca"
  },
  "kernelspec": {
   "display_name": "Python 3 (ipykernel)",
   "language": "python",
   "name": "python3"
  },
  "language_info": {
   "codemirror_mode": {
    "name": "ipython",
    "version": 3
   },
   "file_extension": ".py",
   "mimetype": "text/x-python",
   "name": "python",
   "nbconvert_exporter": "python",
   "pygments_lexer": "ipython3",
   "version": "3.8.3"
  }
 },
 "nbformat": 4,
 "nbformat_minor": 4
}
